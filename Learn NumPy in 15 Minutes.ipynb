{
 "cells": [
  {
   "cell_type": "markdown",
   "id": "5a09a696-040f-4f8b-b181-03a6925d37fa",
   "metadata": {},
   "source": [
    "# <center>NumPy</center>"
   ]
  },
  {
   "cell_type": "markdown",
   "id": "b39846da-42e2-4aee-9da4-b1348aa5c853",
   "metadata": {},
   "source": [
    "## What is NumPy"
   ]
  },
  {
   "cell_type": "markdown",
   "id": "61c114d1-b8ef-428c-8a9c-f7303497adde",
   "metadata": {},
   "source": [
    "#### NumPy, which stands for Numerical Python, is a powerful and widely-used library in the Python programming language, designed for numerical and scientific computing. \n",
    "#### NumPy provides an N-dimensional array object (ndarray) for efficient storage and manipulation of large numerical datasets.\n",
    "#### Includes a wide range of mathematical operations, from basic arithmetic to advanced linear algebra and statistical functions.\n",
    "#### Serves as the backbone for many other Python libraries like SciPy, pandas, and scikit-learn etc.."
   ]
  },
  {
   "cell_type": "code",
   "execution_count": null,
   "id": "9afe81ec-02dc-4bfe-a71f-ee481ce79517",
   "metadata": {},
   "outputs": [],
   "source": []
  },
  {
   "cell_type": "markdown",
   "id": "ec30ade2-5fdd-433d-975e-9cf3aa737cf7",
   "metadata": {},
   "source": [
    "### Install NumPy"
   ]
  },
  {
   "cell_type": "code",
   "execution_count": null,
   "id": "b6fb9d43-e532-450d-95b0-24a218d4866a",
   "metadata": {},
   "outputs": [],
   "source": [
    "pip install numpy"
   ]
  },
  {
   "cell_type": "code",
   "execution_count": null,
   "id": "b24f0d87-053b-465d-b279-7d4e430540e9",
   "metadata": {},
   "outputs": [],
   "source": []
  },
  {
   "cell_type": "markdown",
   "id": "bed84c5b-2a85-46ef-98ba-aebdb547d437",
   "metadata": {},
   "source": [
    "### Import NumPy Package"
   ]
  },
  {
   "cell_type": "code",
   "execution_count": 1,
   "id": "924fdacb-c426-4c92-841e-25fa06ba83f7",
   "metadata": {},
   "outputs": [],
   "source": [
    "import numpy as np"
   ]
  },
  {
   "cell_type": "code",
   "execution_count": null,
   "id": "3a5e42aa-7aa1-4b61-9e1d-2e7f8321cd9f",
   "metadata": {},
   "outputs": [],
   "source": []
  },
  {
   "cell_type": "markdown",
   "id": "42d81586-3fc7-4d5b-8103-1a83d2ece676",
   "metadata": {},
   "source": [
    "### Creating a List"
   ]
  },
  {
   "cell_type": "code",
   "execution_count": 2,
   "id": "03830c79-efc1-4f8a-b779-c0baa878ab24",
   "metadata": {},
   "outputs": [
    {
     "name": "stdout",
     "output_type": "stream",
     "text": [
      "[20.3, 25.3, 22.7, 19, 18.5, 21.2, 24.5, 26.6, 23.2, 21.2]\n",
      "<class 'list'>\n"
     ]
    }
   ],
   "source": [
    "stock_values = [20.3, 25.3, 22.7, 19, 18.5, 21.2, 24.5, 26.6, 23.2, 21.2] # This is a list  Hetrogenius Data Value \n",
    "print(stock_values)\n",
    "print(type(stock_values))"
   ]
  },
  {
   "cell_type": "code",
   "execution_count": null,
   "id": "8a40b48f-2502-475d-8b3c-c87d31f2e65f",
   "metadata": {},
   "outputs": [],
   "source": []
  },
  {
   "cell_type": "markdown",
   "id": "bff961aa-b96f-45c9-a50a-62770b70476a",
   "metadata": {},
   "source": [
    "### Converting List to NumPy Array"
   ]
  },
  {
   "cell_type": "code",
   "execution_count": 3,
   "id": "6498bc1f-7a32-48c7-85ad-46cc3851516b",
   "metadata": {},
   "outputs": [
    {
     "name": "stdout",
     "output_type": "stream",
     "text": [
      "[20.3 25.3 22.7 19.  18.5 21.2 24.5 26.6 23.2 21.2]\n",
      "<class 'numpy.ndarray'>\n"
     ]
    }
   ],
   "source": [
    "stock_arr = np.array(stock_values)  # Homogenious Data Value\n",
    "print(stock_arr)\n",
    "print(type(stock_arr))"
   ]
  },
  {
   "cell_type": "code",
   "execution_count": null,
   "id": "e18eeb50-c8c0-4bd6-a897-6a5df0263330",
   "metadata": {},
   "outputs": [],
   "source": []
  },
  {
   "cell_type": "markdown",
   "id": "30318386-dd63-4343-87ad-68685f8536bb",
   "metadata": {},
   "source": [
    "### Display Dimension of Array"
   ]
  },
  {
   "cell_type": "code",
   "execution_count": 4,
   "id": "d449ad50-3fea-495c-b4fc-c0ed6cf6da3e",
   "metadata": {},
   "outputs": [
    {
     "data": {
      "text/plain": [
       "1"
      ]
     },
     "execution_count": 4,
     "metadata": {},
     "output_type": "execute_result"
    }
   ],
   "source": [
    "stock_arr.ndim"
   ]
  },
  {
   "cell_type": "code",
   "execution_count": null,
   "id": "a900bc03-cbd6-4a0e-bd19-9a725f95b22e",
   "metadata": {},
   "outputs": [],
   "source": []
  },
  {
   "cell_type": "markdown",
   "id": "d72525c0-e2cc-4287-94b7-4b47447b58f9",
   "metadata": {},
   "source": [
    "### Creating 2-Dimensional NumPy Array from List "
   ]
  },
  {
   "cell_type": "code",
   "execution_count": 5,
   "id": "ccb773b1-9cc9-4484-88d6-92b67b8738c7",
   "metadata": {},
   "outputs": [],
   "source": [
    "data_2 = [[1,2,3],[3,4,5]]\n",
    "data_arr = np.array(data_2)"
   ]
  },
  {
   "cell_type": "code",
   "execution_count": null,
   "id": "b7ef312c-0ff4-46e6-b26d-0aa66a24adc1",
   "metadata": {},
   "outputs": [],
   "source": []
  },
  {
   "cell_type": "markdown",
   "id": "b259f046-9fcc-4d8b-89d6-0a785db05cca",
   "metadata": {},
   "source": [
    "### Display 2-Dimensional Array Values"
   ]
  },
  {
   "cell_type": "code",
   "execution_count": 6,
   "id": "338cc2cf-1304-4d2e-b62c-691935ba2214",
   "metadata": {},
   "outputs": [
    {
     "data": {
      "text/plain": [
       "array([[1, 2, 3],\n",
       "       [3, 4, 5]])"
      ]
     },
     "execution_count": 6,
     "metadata": {},
     "output_type": "execute_result"
    }
   ],
   "source": [
    "data_arr"
   ]
  },
  {
   "cell_type": "code",
   "execution_count": null,
   "id": "5567dc70-cc77-45da-937e-bea825108dd6",
   "metadata": {},
   "outputs": [],
   "source": []
  },
  {
   "cell_type": "markdown",
   "id": "9c3a44f3-0e98-4c5f-9ced-8c47760d061d",
   "metadata": {},
   "source": [
    "### Display Dimension of Array"
   ]
  },
  {
   "cell_type": "code",
   "execution_count": 7,
   "id": "0b9a6327-5c96-4cd9-86cc-4d76aacbea4a",
   "metadata": {},
   "outputs": [
    {
     "data": {
      "text/plain": [
       "2"
      ]
     },
     "execution_count": 7,
     "metadata": {},
     "output_type": "execute_result"
    }
   ],
   "source": [
    "data_arr.ndim"
   ]
  },
  {
   "cell_type": "code",
   "execution_count": null,
   "id": "000d3432-91f8-48af-8966-83351bc2fe25",
   "metadata": {},
   "outputs": [],
   "source": []
  },
  {
   "cell_type": "markdown",
   "id": "1c7b3342-0a1b-4ef3-b297-ad0ebe0023d4",
   "metadata": {},
   "source": [
    "### Display the Shape of any Array"
   ]
  },
  {
   "cell_type": "code",
   "execution_count": 8,
   "id": "aa421c4c-e576-4828-aa1a-cce7098df992",
   "metadata": {},
   "outputs": [
    {
     "data": {
      "text/plain": [
       "(2, 3)"
      ]
     },
     "execution_count": 8,
     "metadata": {},
     "output_type": "execute_result"
    }
   ],
   "source": [
    "data_arr.shape"
   ]
  },
  {
   "cell_type": "code",
   "execution_count": null,
   "id": "7070c907-c277-44b6-86b6-eee41a3a1dd1",
   "metadata": {},
   "outputs": [],
   "source": []
  },
  {
   "cell_type": "markdown",
   "id": "1986a9a3-d6cc-4ea0-8183-2cc77a2f1eae",
   "metadata": {},
   "source": [
    "### Creating Two Lists and Concatenate"
   ]
  },
  {
   "cell_type": "code",
   "execution_count": 9,
   "id": "99338eba-e38a-4829-879c-b387922ae36f",
   "metadata": {},
   "outputs": [
    {
     "data": {
      "text/plain": [
       "[100, 200, 300, 10, 20, 30]"
      ]
     },
     "execution_count": 9,
     "metadata": {},
     "output_type": "execute_result"
    }
   ],
   "source": [
    "l1= [100,200,300]\n",
    "l2 =[10,20,30]\n",
    "l1 + l2 # It performs concatenation"
   ]
  },
  {
   "cell_type": "code",
   "execution_count": null,
   "id": "ad371414-a15b-49ab-b88f-0989da842c41",
   "metadata": {},
   "outputs": [],
   "source": []
  },
  {
   "cell_type": "markdown",
   "id": "10969a7a-6a92-4efb-baef-ec321b7ea709",
   "metadata": {},
   "source": [
    "### Creating Two NumPy Arrays and Concatenate"
   ]
  },
  {
   "cell_type": "code",
   "execution_count": 10,
   "id": "dce942d7-642a-4303-8687-fcb6124d9855",
   "metadata": {},
   "outputs": [
    {
     "data": {
      "text/plain": [
       "array([110, 220, 330])"
      ]
     },
     "execution_count": 10,
     "metadata": {},
     "output_type": "execute_result"
    }
   ],
   "source": [
    "n1 = np.array([100,200,300])\n",
    "n2 = np.array([10,20,30])\n",
    "n1 + n2 #It perform Matrix Addition "
   ]
  },
  {
   "cell_type": "code",
   "execution_count": null,
   "id": "fae55f2a-994c-4377-8268-6e2fd577654d",
   "metadata": {},
   "outputs": [],
   "source": []
  },
  {
   "cell_type": "markdown",
   "id": "48cf1b08-d3af-4f1f-a684-641f99f14d1c",
   "metadata": {},
   "source": [
    "### Concatenate List with Value "
   ]
  },
  {
   "cell_type": "code",
   "execution_count": 11,
   "id": "ead5e565-15f4-4672-8246-8c2f5424742e",
   "metadata": {},
   "outputs": [
    {
     "ename": "TypeError",
     "evalue": "can only concatenate list (not \"int\") to list",
     "output_type": "error",
     "traceback": [
      "\u001b[1;31m---------------------------------------------------------------------------\u001b[0m",
      "\u001b[1;31mTypeError\u001b[0m                                 Traceback (most recent call last)",
      "Cell \u001b[1;32mIn[11], line 1\u001b[0m\n\u001b[1;32m----> 1\u001b[0m l1\u001b[38;5;241m=\u001b[39m [\u001b[38;5;241m100\u001b[39m,\u001b[38;5;241m200\u001b[39m,\u001b[38;5;241m300\u001b[39m] \u001b[38;5;241m+\u001b[39m \u001b[38;5;241m3\u001b[39m\n",
      "\u001b[1;31mTypeError\u001b[0m: can only concatenate list (not \"int\") to list"
     ]
    }
   ],
   "source": [
    "l1= [100,200,300] + 3 #Give Error Saying \"can only concatenate list (not \"int\") to list\""
   ]
  },
  {
   "cell_type": "code",
   "execution_count": null,
   "id": "7d4e1b08-daeb-47be-a49e-a7968b63d778",
   "metadata": {},
   "outputs": [],
   "source": []
  },
  {
   "cell_type": "markdown",
   "id": "5a1f4b34-9b55-4824-84a0-fcd2fea5b7ef",
   "metadata": {},
   "source": [
    "### Concatenate NumPy Array with Value "
   ]
  },
  {
   "cell_type": "code",
   "execution_count": 12,
   "id": "fc59cd3c-1dfc-40d5-8547-6254463ef245",
   "metadata": {},
   "outputs": [
    {
     "data": {
      "text/plain": [
       "array([103, 203, 303])"
      ]
     },
     "execution_count": 12,
     "metadata": {},
     "output_type": "execute_result"
    }
   ],
   "source": [
    "n1 + 3 # It perform Matrix Addition it add value to each element in Matrix"
   ]
  },
  {
   "cell_type": "code",
   "execution_count": null,
   "id": "8334a765-575b-46d9-b194-733268559e71",
   "metadata": {},
   "outputs": [],
   "source": []
  },
  {
   "cell_type": "markdown",
   "id": "9345c28c-b839-40c7-a3ef-4e532672d746",
   "metadata": {},
   "source": [
    "### Accessing NumPy Array"
   ]
  },
  {
   "cell_type": "code",
   "execution_count": 13,
   "id": "809d91f7-d225-47c1-8f82-25584a4051e0",
   "metadata": {},
   "outputs": [],
   "source": [
    "data = [[1,2,3],[3,4,5]]\n",
    "data_arr = np.array(data)"
   ]
  },
  {
   "cell_type": "code",
   "execution_count": null,
   "id": "a04d9a76-9ba9-45ca-a9d1-9573eed16f11",
   "metadata": {},
   "outputs": [],
   "source": []
  },
  {
   "cell_type": "markdown",
   "id": "ea107624-b363-408d-9b70-7ccf13a2da51",
   "metadata": {},
   "source": [
    "### Display complete array or matrix"
   ]
  },
  {
   "cell_type": "code",
   "execution_count": 14,
   "id": "1efeac2b-1491-4f16-b479-e9f69cc29a8d",
   "metadata": {},
   "outputs": [
    {
     "data": {
      "text/plain": [
       "array([[1, 2, 3],\n",
       "       [3, 4, 5]])"
      ]
     },
     "execution_count": 14,
     "metadata": {},
     "output_type": "execute_result"
    }
   ],
   "source": [
    "data_arr"
   ]
  },
  {
   "cell_type": "code",
   "execution_count": null,
   "id": "09f2f772-c179-47a0-a933-5883812651df",
   "metadata": {},
   "outputs": [],
   "source": []
  },
  {
   "cell_type": "markdown",
   "id": "32b0c3ce-cc83-4845-960b-66d8bde0ead5",
   "metadata": {},
   "source": [
    "### Access NumPy Array using Index"
   ]
  },
  {
   "cell_type": "code",
   "execution_count": 17,
   "id": "f3521d77-5150-4fef-bdf5-4ea5903b0510",
   "metadata": {},
   "outputs": [
    {
     "name": "stdout",
     "output_type": "stream",
     "text": [
      "2\n",
      "4\n",
      "3\n"
     ]
    }
   ],
   "source": [
    "print(data_arr[0][1])\n",
    "print(data_arr[1][1])\n",
    "print(data_arr[1,0])"
   ]
  },
  {
   "cell_type": "code",
   "execution_count": null,
   "id": "ed4ef5ec-e1c3-420a-9065-88432b8d0d46",
   "metadata": {},
   "outputs": [],
   "source": []
  },
  {
   "cell_type": "code",
   "execution_count": null,
   "id": "7d284d6a-89a3-4148-85b0-9ba7f8ce265d",
   "metadata": {},
   "outputs": [],
   "source": []
  },
  {
   "cell_type": "code",
   "execution_count": null,
   "id": "47ae40b9-4afc-4f07-a590-9a40c4842040",
   "metadata": {},
   "outputs": [],
   "source": []
  }
 ],
 "metadata": {
  "kernelspec": {
   "display_name": "Python 3 (ipykernel)",
   "language": "python",
   "name": "python3"
  },
  "language_info": {
   "codemirror_mode": {
    "name": "ipython",
    "version": 3
   },
   "file_extension": ".py",
   "mimetype": "text/x-python",
   "name": "python",
   "nbconvert_exporter": "python",
   "pygments_lexer": "ipython3",
   "version": "3.11.7"
  }
 },
 "nbformat": 4,
 "nbformat_minor": 5
}
