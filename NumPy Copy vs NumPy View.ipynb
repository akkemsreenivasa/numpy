{
 "cells": [
  {
   "cell_type": "markdown",
   "id": "4cf0cd84-5471-4ebf-a9be-e02bd39039ca",
   "metadata": {},
   "source": [
    "# <center>NumPy Copy vs NumPy View</center>"
   ]
  },
  {
   "cell_type": "markdown",
   "id": "d01a4265-bf9d-423f-bb0e-127afb5130f7",
   "metadata": {},
   "source": [
    "## NumPy View"
   ]
  },
  {
   "cell_type": "code",
   "execution_count": 1,
   "id": "84d94650-b4ee-4939-abe8-e3ccbdf5a121",
   "metadata": {},
   "outputs": [],
   "source": [
    "import numpy as np"
   ]
  },
  {
   "cell_type": "code",
   "execution_count": 2,
   "id": "1d7c8616-3f87-4f8c-bc69-4f6832d03dbe",
   "metadata": {},
   "outputs": [
    {
     "name": "stdout",
     "output_type": "stream",
     "text": [
      "[1 2 3 4 5 6]\n",
      "1\n",
      "(6,)\n"
     ]
    }
   ],
   "source": [
    "x = np.array([1,2,3,4,5,6]) #1-Dimensional Array\n",
    "print(x)\n",
    "print(x.ndim)\n",
    "print(x.shape)"
   ]
  },
  {
   "cell_type": "markdown",
   "id": "9331e103-f6bc-4309-b2ef-9593313147d0",
   "metadata": {},
   "source": [
    "### Create a NumPy View from NumPy Array by performing Slicing"
   ]
  },
  {
   "cell_type": "code",
   "execution_count": 3,
   "id": "750563a0-9caa-49de-be7b-b4ae58f282a0",
   "metadata": {},
   "outputs": [
    {
     "name": "stdout",
     "output_type": "stream",
     "text": [
      "[3 4 5]\n"
     ]
    }
   ],
   "source": [
    "x_new = x[2:5]\n",
    "print(x_new)"
   ]
  },
  {
   "cell_type": "code",
   "execution_count": null,
   "id": "16c2d9b8-f47d-478d-8158-e2226bbbbf07",
   "metadata": {},
   "outputs": [],
   "source": []
  },
  {
   "cell_type": "markdown",
   "id": "5af317b4-7d58-46de-92e1-df635df84732",
   "metadata": {},
   "source": [
    "### Perform modification on NumPy View"
   ]
  },
  {
   "cell_type": "code",
   "execution_count": 4,
   "id": "7d570cb7-f348-4b07-9442-514859f6b8a9",
   "metadata": {},
   "outputs": [
    {
     "name": "stdout",
     "output_type": "stream",
     "text": [
      "[0 0 0]\n"
     ]
    }
   ],
   "source": [
    "x_new[:] = 0\n",
    "print(x_new)"
   ]
  },
  {
   "cell_type": "code",
   "execution_count": 5,
   "id": "087a956a-35e1-4fb3-b26b-b9d62424af5c",
   "metadata": {},
   "outputs": [
    {
     "name": "stdout",
     "output_type": "stream",
     "text": [
      "[1 2 0 0 0 6]\n"
     ]
    }
   ],
   "source": [
    "print(x)"
   ]
  },
  {
   "cell_type": "code",
   "execution_count": null,
   "id": "722d47c2-3f9d-429a-8246-1580c69f91ef",
   "metadata": {},
   "outputs": [],
   "source": []
  },
  {
   "cell_type": "markdown",
   "id": "d71a65b0-682f-4e72-bb96-03f3b1c5b431",
   "metadata": {},
   "source": [
    "## NumPy Copy"
   ]
  },
  {
   "cell_type": "code",
   "execution_count": 6,
   "id": "f5f5feb1-5cf8-4f0c-8ca4-165921e33481",
   "metadata": {},
   "outputs": [
    {
     "name": "stdout",
     "output_type": "stream",
     "text": [
      "[5 6 7 8 9]\n"
     ]
    }
   ],
   "source": [
    "y = np.array([5,6,7,8,9])\n",
    "print(y)"
   ]
  },
  {
   "cell_type": "code",
   "execution_count": 7,
   "id": "6dac1071-d2a4-4e81-b8a2-23de46af6ffe",
   "metadata": {},
   "outputs": [
    {
     "name": "stdout",
     "output_type": "stream",
     "text": [
      "[7 8 9]\n"
     ]
    }
   ],
   "source": [
    "y_new = y[2:5].copy()\n",
    "print(y_new)"
   ]
  },
  {
   "cell_type": "markdown",
   "id": "46664dee-e3d3-4833-8e25-58a4adbd2465",
   "metadata": {},
   "source": [
    "### Perform Modification on NumPy Copy"
   ]
  },
  {
   "cell_type": "code",
   "execution_count": 8,
   "id": "6ace25cb-d039-43cb-837d-925845625696",
   "metadata": {},
   "outputs": [
    {
     "name": "stdout",
     "output_type": "stream",
     "text": [
      "[0 0 0]\n"
     ]
    }
   ],
   "source": [
    "y_new[:] = 0\n",
    "print(y_new)"
   ]
  },
  {
   "cell_type": "code",
   "execution_count": 9,
   "id": "1deb5de5-81b0-4233-bc3b-9f994ab6f7fd",
   "metadata": {},
   "outputs": [
    {
     "name": "stdout",
     "output_type": "stream",
     "text": [
      "[5 6 7 8 9]\n"
     ]
    }
   ],
   "source": [
    "print(y)"
   ]
  },
  {
   "cell_type": "code",
   "execution_count": null,
   "id": "72a0d426-9d97-4902-8958-df99029b22ce",
   "metadata": {},
   "outputs": [],
   "source": []
  }
 ],
 "metadata": {
  "kernelspec": {
   "display_name": "Python 3 (ipykernel)",
   "language": "python",
   "name": "python3"
  },
  "language_info": {
   "codemirror_mode": {
    "name": "ipython",
    "version": 3
   },
   "file_extension": ".py",
   "mimetype": "text/x-python",
   "name": "python",
   "nbconvert_exporter": "python",
   "pygments_lexer": "ipython3",
   "version": "3.11.7"
  }
 },
 "nbformat": 4,
 "nbformat_minor": 5
}
